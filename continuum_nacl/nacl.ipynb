{
 "cells": [
  {
   "cell_type": "markdown",
   "metadata": {},
   "source": [
    "# Primitive model of electrolytes: NaCl in continuum solvent\n",
    "\n",
    "In this example we explore the possibility for setting a background dielectric constant for simulating (soft) particles in an implicit solvent.\n",
    "\n",
    "- Can $\\epsilon_r$ be set for PME/Ewald? Nothing found in the documentation so far except for scaling charges\n",
    "- Use a custom nonbonded ff instead?\n",
    "- GBSA forces are automatically added when a `<GBSAOBCForce>` section is encountered in .xml file\n",
    "- For ideas for rigid bodies, see openmm forum: https://simtk.org/forums/viewtopic.php?f=161&t=5841&p=14836&hilit=rigid#p14836"
   ]
  },
  {
   "cell_type": "code",
   "execution_count": 1,
   "metadata": {
    "collapsed": false
   },
   "outputs": [
    {
     "name": "stdout",
     "output_type": "stream",
     "text": [
      "RF dielectric =  80.0\n",
      "Equilibrating...\n",
      "Production...\n",
      "#\"Progress (%)\"\t\"Step\"\t\"Potential Energy (kJ/mole)\"\t\"Temperature (K)\"\t\"Box Volume (nm^3)\"\t\"Speed (ns/day)\"\n",
      "10.0%\t40500\t-9.41419052737\t389.559018631\t1000.0\t0\n",
      "20.0%\t81000\t-5.38719238931\t323.348955062\t1000.0\t5.51e+03\n",
      "30.0%\t121500\t-13.2359821502\t358.396576464\t1000.0\t5.5e+03\n",
      "40.0%\t162000\t-10.0617166891\t256.047483629\t1000.0\t5.49e+03\n",
      "50.0%\t202500\t-9.76001213709\t312.319746817\t1000.0\t5.39e+03\n",
      "60.0%\t243000\t-10.6731361359\t308.124138624\t1000.0\t5.41e+03\n",
      "70.0%\t283500\t-9.8400834653\t432.585410388\t1000.0\t5.42e+03\n",
      "80.0%\t324000\t-17.2790620144\t255.991047233\t1000.0\t5.43e+03\n",
      "90.0%\t364500\t-14.271373764\t273.278255592\t1000.0\t5.43e+03\n",
      "100.0%\t405000\t-19.5669405017\t305.142845317\t1000.0\t5.43e+03\n",
      "Done!\n"
     ]
    }
   ],
   "source": [
    "%matplotlib inline\n",
    "from __future__ import print_function\n",
    "from simtk.openmm import app\n",
    "import simtk.openmm as mm\n",
    "from simtk import unit\n",
    "from sys import stdout, exit\n",
    "import numpy as np\n",
    "import math\n",
    "import mdtraj as mdtraj\n",
    "\n",
    "cutoff           = 50*unit.angstrom\n",
    "temperature      = 300*unit.kelvin\n",
    "useMinimize      = False\n",
    "epsilon_r        = 80.\n",
    "steps_eq         = 5000\n",
    "steps_production = 4e5\n",
    "\n",
    "pdb = app.PDBFile('nacl.pdb')\n",
    "forcefield = app.ForceField('cg.xml')\n",
    "\n",
    "system = forcefield.createSystem(pdb.topology, nonbondedMethod=app.Ewald, \n",
    "                nonbondedCutoff=cutoff, ewaldErrorTolerance=0.1)\n",
    "\n",
    "# scale charges\n",
    "def scaleCharges(system, scale=1.0):\n",
    "    \"\"\"\n",
    "    Scale charges in all appropriate force classes of system. This can\n",
    "    be used to simulate a system with a different background dielectric\n",
    "    by setting scale=1/sqrt(epsilon_r), for example.\n",
    "    \"\"\"\n",
    "    for force in system.getForces():\n",
    "        if 'getParticleParameters' in dir(force):\n",
    "            for i in range(force.getNumParticles()):\n",
    "                charge, sigma, epsilon = force.getParticleParameters(i)\n",
    "                force.setParticleParameters(i, scale*charge, sigma, epsilon)\n",
    "        if 'getExceptionParameters' in dir(force):\n",
    "            for i in range(force.getNumExceptions()):\n",
    "                p1, p2, chargeProd, sigma, epsilon = force.getExceptionParameters(i)\n",
    "                force.setExceptionParameters(i, p1, p2, chargeProd*(scale**2), sigma, epsilon)\n",
    "    \n",
    "scaleCharges(system, scale=1/math.sqrt(epsilon_r))\n",
    "\n",
    "# set dielectric constant (no effect on pairwise-interactions)\n",
    "for i in system.getForces():\n",
    "  if isinstance(i, mm.NonbondedForce):\n",
    "    i.setReactionFieldDielectric(epsilon_r)\n",
    "    print ('RF dielectric = ', i.getReactionFieldDielectric())\n",
    "    \n",
    "integrator = mm.LangevinIntegrator(\n",
    "    temperature,\n",
    "    1.0/unit.picoseconds, \n",
    "    20.0*unit.femtoseconds)\n",
    "\n",
    "integrator.setConstraintTolerance(0.00001)\n",
    "\n",
    "simulation = app.Simulation(pdb.topology, system, integrator)\n",
    "simulation.context.setPositions(pdb.positions)\n",
    "\n",
    "if useMinimize:\n",
    "  print('Minimizing...')\n",
    "  simulation.minimizeEnergy()\n",
    "\n",
    "print('Equilibrating...')\n",
    "simulation.context.setVelocitiesToTemperature(300*unit.kelvin)\n",
    "simulation.step(steps_eq)\n",
    "\n",
    "steps_total = steps_eq + steps_production\n",
    "simulation.reporters.append(mdtraj.reporters.HDF5Reporter('trajectory.h5', 100))\n",
    "simulation.reporters.append(app.PDBReporter('trajectory.pdb', 1000))\n",
    "simulation.reporters.append(app.StateDataReporter(stdout, int(steps_total/10), step=True, \n",
    "    potentialEnergy=True, temperature=True, progress=True, remainingTime=False, \n",
    "    speed=True, totalSteps=steps_total, volume=True, separator='\\t'))\n",
    "\n",
    "print('Production...')\n",
    "simulation.step(steps_production)\n",
    "\n",
    "print('Done!')"
   ]
  },
  {
   "cell_type": "markdown",
   "metadata": {},
   "source": [
    "### Plot and compare with Debye-Hückel\n",
    "\n",
    "Calculate the radial distribution function, $g(r)=\\exp\\left(-w(r)/k_BT\\right)$, between Na+ and Cl- and compare\n",
    "the result with the Debye-Hückel potential for the interaction free energy between two ions in an aqueous salt solution,\n",
    "\n",
    "\\begin{equation}\n",
    "w(r) / k_BT = \\frac{\\lambda_Bz_1z_2}{r}e^{-r/\\lambda_D}\n",
    "\\end{equation}\n",
    "\n",
    "where\n",
    "$\\lambda_B=e^2/4\\pi\\epsilon_0\\epsilon_rk_BT$ and\n",
    "$\\lambda_D=(4\\pi\\lambda_B\\sum \\rho_iz_i^2)^{-1/2}$ are the Bjerrum and Debye lengths, respectively. $\\rho_i$ is the number density of the $i$th ion."
   ]
  },
  {
   "cell_type": "code",
   "execution_count": 2,
   "metadata": {
    "collapsed": false
   },
   "outputs": [
    {
     "name": "stdout",
     "output_type": "stream",
     "text": [
      "Salt concentration =  0.019926465398 M\n",
      "Bjerrum length     =  0.696253115266 nm\n",
      "Debye length       =  2.18225688043 nm\n"
     ]
    },
    {
     "data": {
      "text/plain": [
       "[<matplotlib.lines.Line2D at 0x10c8fb1d0>]"
      ]
     },
     "execution_count": 2,
     "metadata": {},
     "output_type": "execute_result"
    },
    {
     "data": {
      "image/png": "[encoded data removed]",
      "text/plain": [
       "<matplotlib.figure.Figure at 0x10c2a9650>"
      ]
     },
     "metadata": {},
     "output_type": "display_data"
    }
   ],
   "source": [
    "import matplotlib\n",
    "import matplotlib.pyplot as plt\n",
    "\n",
    "# volume, conc., bjerrum & debye length\n",
    "epsilon_0 = 8.8541878176e-12*unit.farad/unit.meter\n",
    "N         = simulation.system.getNumParticles()\n",
    "V         = simulation.topology.getUnitCellDimensions()[0]**3\n",
    "lB        = (unit.elementary_charge**2 /\n",
    "            (4*math.pi*epsilon_0*epsilon_r*unit.BOLTZMANN_CONSTANT_kB*temperature))\\\n",
    "            .in_units_of(unit.nanometer)\n",
    "lD        = 1/unit.sqrt(4*math.pi*lB*N/V)\n",
    "\n",
    "print('Salt concentration = ', 0.5*(N/unit.AVOGADRO_CONSTANT_NA/V).in_units_of(unit.molar))\n",
    "print('Bjerrum length     = ', lB)\n",
    "print('Debye length       = ', lD)\n",
    "\n",
    "# open trajectory and plot rdf\n",
    "simulation.reporters[0].close()\n",
    "traj = mdtraj.load('trajectory.h5')\n",
    "r,g = mdtraj.compute_rdf(traj, traj.topology.select_pairs('name Na', 'name Cl'),\\\n",
    "                         r_range=[0.2,5], bin_width=0.025)\n",
    "r=r*unit.nanometer\n",
    "\n",
    "# plot simulated Na-Cl pmf (red) vs. Debye-Huckel (blue)\n",
    "plt.xlabel('$r$/nm')\n",
    "plt.ylabel('$w(r)/k_BT$')\n",
    "plt.plot(r, -np.log(g), 'r.')\n",
    "plt.plot(r, -lB / r * np.exp( -r/lD ), 'b-')"
   ]
  },
  {
   "cell_type": "code",
   "execution_count": null,
   "metadata": {
    "collapsed": true
   },
   "outputs": [],
   "source": []
  }
 ],
 "metadata": {
  "kernelspec": {
   "display_name": "Python 2",
   "language": "python",
   "name": "python2"
  },
  "language_info": {
   "codemirror_mode": {
    "name": "ipython",
    "version": 2
   },
   "file_extension": ".py",
   "mimetype": "text/x-python",
   "name": "python",
   "nbconvert_exporter": "python",
   "pygments_lexer": "ipython2",
   "version": "2.7.10"
  }
 },
 "nbformat": 4,
 "nbformat_minor": 0
}

{
 "cells": [
  {
   "cell_type": "markdown",
   "metadata": {},
   "source": [
    "# Primitive model of electrolytes\n",
    "\n",
    "In this example we explore the possibility for setting a background dielectric constant for simulating (soft) particles in an implicit solvent.\n",
    "\n",
    "- Can $\\epsilon_r$ be set for PME/Ewald? Nothing found in the documentation so far except for scaling charges\n",
    "- Use a custom nonbonded ff instead?\n",
    "- GBSA forces are automatically added when a `<GBSAOBCForce>` section is encountered in .xml file\n",
    "- For ideas for rigid bodies, see openmm forum: https://simtk.org/forums/viewtopic.php?f=161&t=5841&p=14836&hilit=rigid#p14836"
   ]
  },
  {
   "cell_type": "code",
   "execution_count": 1,
   "metadata": {
    "collapsed": false
   },
   "outputs": [
    {
     "name": "stdout",
     "output_type": "stream",
     "text": [
      "RF dielectric =  80.0\n",
      "Equilibrating...\n",
      "Production...\n",
      "#\"Progress (%)\"\t\"Step\"\t\"Potential Energy (kJ/mole)\"\t\"Temperature (K)\"\t\"Box Volume (nm^3)\"\t\"Speed (ns/day)\"\n",
      "10.0%\t20500\t-12.6374067013\t246.785037001\t1000.0\t0\n",
      "20.0%\t41000\t-14.4823877315\t360.528392849\t1000.0\t3.98e+03\n",
      "30.0%\t61500\t-8.78702962864\t390.258021678\t1000.0\t3.97e+03\n",
      "40.0%\t82000\t-15.4160995354\t340.751984141\t1000.0\t3.98e+03\n",
      "50.0%\t102500\t-8.21784493457\t273.25205338\t1000.0\t3.96e+03\n",
      "60.0%\t123000\t-16.8425390769\t306.227808744\t1000.0\t3.95e+03\n",
      "70.0%\t143500\t-12.424594084\t329.935178247\t1000.0\t3.95e+03\n",
      "80.0%\t164000\t-11.9639682514\t337.165881525\t1000.0\t3.94e+03\n",
      "90.0%\t184500\t-10.4308637904\t341.339662853\t1000.0\t3.93e+03\n",
      "100.0%\t205000\t-7.01769777131\t334.070820562\t1000.0\t3.94e+03\n",
      "Done!\n"
     ]
    }
   ],
   "source": [
    "%matplotlib inline\n",
    "from __future__ import print_function\n",
    "from simtk.openmm import app\n",
    "import simtk.openmm as mm\n",
    "from simtk import unit\n",
    "from sys import stdout, exit\n",
    "import mdtraj as mdtraj\n",
    "import numpy as np\n",
    "import math\n",
    "\n",
    "cutoff           = 10*unit.angstrom\n",
    "useEwald         = True\n",
    "useMinimize      = False\n",
    "epsilon_r        = 80.\n",
    "steps_eq         = 5000\n",
    "steps_production = 2e5\n",
    "\n",
    "pdb = app.PDBFile('nacl.pdb')\n",
    "forcefield = app.ForceField('cg.xml')\n",
    "\n",
    "if useEwald:\n",
    "  suffix='_ewald'\n",
    "  system = forcefield.createSystem(pdb.topology, nonbondedMethod=app.Ewald, \n",
    "    nonbondedCutoff=cutoff, ewaldErrorTolerance=0.2)\n",
    "else:\n",
    "  suffix='_rf'\n",
    "  system = forcefield.createSystem(pdb.topology, nonbondedMethod=app.CutoffPeriodic, \n",
    "    nonbondedCutoff=cutoff)\n",
    "\n",
    "# lower dielectric constant | scale charges\n",
    "for i in system.getForces():\n",
    "  if isinstance(i, mm.GBSAOBCForce):\n",
    "    # do these have any effect?\n",
    "    i.setSolventDielectric(epsilon_r)\n",
    "    i.setSoluteDielectric(epsilon_r)\n",
    "    print ('Solvent dielectric = ', i.getSolventDielectric())\n",
    "    print ('Solute dielectric  = ', i.getSolventDielectric())\n",
    "  if isinstance(i, mm.NonbondedForce):\n",
    "    i.setReactionFieldDielectric(epsilon_r)\n",
    "    print ('RF dielectric = ', i.getReactionFieldDielectric())\n",
    "    for atom in pdb.topology.atoms():\n",
    "      properties = i.getParticleParameters(atom.index)\n",
    "      properties[0] = properties[0] / math.sqrt(epsilon_r)\n",
    "      i.setParticleParameters(atom.index, *properties)\n",
    "    \n",
    "integrator = mm.LangevinIntegrator(\n",
    "    300*unit.kelvin,\n",
    "    1.0/unit.picoseconds, \n",
    "    20.0*unit.femtoseconds)\n",
    "\n",
    "integrator.setConstraintTolerance(0.00001)\n",
    "\n",
    "simulation = app.Simulation(pdb.topology, system, integrator)\n",
    "simulation.context.setPositions(pdb.positions)\n",
    "\n",
    "if useMinimize:\n",
    "  print('Minimizing...')\n",
    "  simulation.minimizeEnergy()\n",
    "\n",
    "print('Equilibrating...')\n",
    "simulation.context.setVelocitiesToTemperature(300*unit.kelvin)\n",
    "simulation.step(steps_eq)\n",
    "\n",
    "steps_total = steps_eq + steps_production\n",
    "simulation.reporters.append(mdtraj.reporters.HDF5Reporter('trajectory'+suffix+'.h5', 100))\n",
    "simulation.reporters.append(app.PDBReporter('output'+suffix+'.pdb', 1000))\n",
    "simulation.reporters.append(app.StateDataReporter(stdout, int(steps_total/10), step=True, \n",
    "    potentialEnergy=True, temperature=True, progress=True, remainingTime=False, \n",
    "    speed=True, totalSteps=steps_total, volume=True, separator='\\t'))\n",
    "\n",
    "print('Production...')\n",
    "simulation.step(steps_production)\n",
    "\n",
    "print('Done!')"
   ]
  },
  {
   "cell_type": "markdown",
   "metadata": {},
   "source": [
    "### Plot and compare with Debye-Hückel\n",
    "\n",
    "Calculate the radial distribution function, $g(r)=\\exp\\left(-w(r)/k_BT\\right)$, between Na+ and Cl- and compare\n",
    "the result with the Debye-Hückel potential,\n",
    "\n",
    "$w(r) / k_BT = \\frac{\\lambda_Bz_1z_2}{r}e^{-r/\\lambda_D}$\n",
    "\n",
    "where $\\lambda_B$ and $\\lambda_D$ are the Bjerrum and Debye lengths, respectively. As can be seen, even fairly crude Ewald parameters, short sampling, and large time steps give very good agreement."
   ]
  },
  {
   "cell_type": "code",
   "execution_count": 5,
   "metadata": {
    "collapsed": false
   },
   "outputs": [
    {
     "name": "stdout",
     "output_type": "stream",
     "text": [
      "conc    =  0.0398529307959 M\n",
      "1/kappa =  15.2280204402 angstrom\n"
     ]
    },
    {
     "data": {
      "text/plain": [
       "[<matplotlib.lines.Line2D at 0x103e79790>]"
      ]
     },
     "execution_count": 5,
     "metadata": {},
     "output_type": "execute_result"
    },
    {
     "data": {
      "image/png": "[encoded data removed]",
      "text/plain": [
       "<matplotlib.figure.Figure at 0x10d235ed0>"
      ]
     },
     "metadata": {},
     "output_type": "display_data"
    }
   ],
   "source": [
    "import matplotlib\n",
    "import numpy as np\n",
    "import matplotlib.pyplot as plt\n",
    "from math import exp\n",
    "from simtk.unit import sqrt\n",
    "\n",
    "# volume, conc., debye length\n",
    "n = simulation.system.getNumParticles() / unit.AVOGADRO_CONSTANT_NA\n",
    "V = simulation.topology.getUnitCellDimensions()[0]**3\n",
    "C = (n/V).in_units_of(unit.molar)\n",
    "D = 3.04 / unit.sqrt(C.value_in_unit(unit.molar)) * 0.1\n",
    "\n",
    "print('conc    = ', C)\n",
    "print('1/kappa = ', D*10, 'angstrom')\n",
    "\n",
    "# open trajectory and plot rdf\n",
    "simulation.reporters[0].close()\n",
    "traj = mdtraj.load('trajectory'+suffix+'.h5')\n",
    "r,g = mdtraj.compute_rdf(traj, traj.topology.select_pairs('name Na', 'name Cl'),\\\n",
    "                         r_range=[0.2,3], bin_width=0.025)\n",
    "\n",
    "# plot simulated Na-Cl pmf (red) vs. Debye-Huckel (blue)\n",
    "plt.xlabel('$r$')\n",
    "plt.ylabel('$w(r)/k_BT$')\n",
    "plt.plot(r, -np.log(g), 'r.')\n",
    "plt.plot(r, -0.7/r*np.exp(-r/D), '-')"
   ]
  },
  {
   "cell_type": "code",
   "execution_count": null,
   "metadata": {
    "collapsed": true
   },
   "outputs": [],
   "source": []
  }
 ],
 "metadata": {
  "kernelspec": {
   "display_name": "Python 2",
   "language": "python",
   "name": "python2"
  },
  "language_info": {
   "codemirror_mode": {
    "name": "ipython",
    "version": 2
   },
   "file_extension": ".py",
   "mimetype": "text/x-python",
   "name": "python",
   "nbconvert_exporter": "python",
   "pygments_lexer": "ipython2",
   "version": "2.7.10"
  }
 },
 "nbformat": 4,
 "nbformat_minor": 0
}

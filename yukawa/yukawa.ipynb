{
 "cells": [
  {
   "cell_type": "markdown",
   "metadata": {},
   "source": [
    "# Custom Nonbonded Potential: Yukawa on rigid bodies\n",
    "\n",
    "Here we define a custom force class where particles interact through a Yukawa potential and a soft repulsion,\n",
    "\n",
    "\\begin{equation}\n",
    "w(r) / k_BT = \\frac{\\lambda_Bz_iz_j}{r}e^{-r/\\lambda_D} + 4\\beta\\epsilon_{ij} \\left ( \\frac{\\sigma_{ij}}{r}\\right )^{12}\n",
    "\\end{equation}\n",
    "\n",
    "where\n",
    "$\\lambda_B=e^2/4\\pi\\epsilon_0\\epsilon_rk_BT$ and\n",
    "$\\lambda_D=(4\\pi\\lambda_B\\sum \\rho_iz_i^2)^{-1/2}$ are the Bjerrum and Debye lengths, respectively. $\\rho_i$ is the number density of the $i$th ion.\n",
    "In this example we also create two rigid bodies using harmonic bonds to constrain the positions.\n",
    "\n",
    "Some comments:\n",
    "\n",
    "1. The potential is defined in `CustomNonbonded` is defined in `cg.zml` and must return energy in `kJ/mol`.\n",
    "2. The Bjerrum and Debye lengths are set via global parameters"
   ]
  },
  {
   "cell_type": "code",
   "execution_count": 7,
   "metadata": {
    "collapsed": true
   },
   "outputs": [],
   "source": [
    "%matplotlib inline\n",
    "import numpy as np\n",
    "from __future__ import print_function\n",
    "from simtk.openmm import app\n",
    "import simtk.openmm as mm\n",
    "from simtk import unit\n",
    "from sys import stdout, exit\n",
    "import math\n",
    "import mdtraj as mdtraj\n",
    "from itertools import combinations"
   ]
  },
  {
   "cell_type": "markdown",
   "metadata": {},
   "source": [
    "### Simulation setup"
   ]
  },
  {
   "cell_type": "code",
   "execution_count": 8,
   "metadata": {
    "collapsed": true
   },
   "outputs": [],
   "source": [
    "cutoff           = 50*unit.angstrom\n",
    "useMinimize      = True\n",
    "epsilon_r        = 80.\n",
    "temperature      = 300*unit.kelvin\n",
    "kT               = unit.BOLTZMANN_CONSTANT_kB*temperature\n",
    "timestep         = 10*unit.femtoseconds;\n",
    "steps_eq         = 5000\n",
    "steps_production = 2e4\n",
    "steps_total      = steps_eq + steps_production"
   ]
  },
  {
   "cell_type": "markdown",
   "metadata": {},
   "source": [
    "### Convenience functions\n",
    "\n",
    "A set of independent functions, useful for setting up OpenMM."
   ]
  },
  {
   "cell_type": "code",
   "execution_count": 9,
   "metadata": {
    "collapsed": false
   },
   "outputs": [],
   "source": [
    "def findForce(system, forcetype, add=True):\n",
    "    \"\"\" Finds a specific force in the system force list - added if not found.\"\"\"\n",
    "    for force in system.getForces():\n",
    "        if isinstance(force, forcetype):\n",
    "            return force\n",
    "    if add==True:\n",
    "        system.addForce(forcetype())\n",
    "        return findForce(system, forcetype)\n",
    "    return None\n",
    "\n",
    "def setGlobalForceParameter(force, key, value):\n",
    "    for i in range(force.getNumGlobalParameters()):\n",
    "        if force.getGlobalParameterName(i)==key:\n",
    "            print('setting force parameter', key, '=', value)\n",
    "            force.setGlobalParameterDefaultValue(i, value);    \n",
    "\n",
    "def atomIndexInResidue(residue):\n",
    "    \"\"\" list of atom index in residue \"\"\"\n",
    "    index=[]\n",
    "    for a in list(residue.atoms()):\n",
    "        index.append(a.index)\n",
    "    return index\n",
    "\n",
    "def getResiduePositions(residue, positions):\n",
    "    \"\"\" Returns array w. atomic positions of residue \"\"\"\n",
    "    ndx = atomIndexInResidue(residue)\n",
    "    return np.array(positions)[ndx]\n",
    "\n",
    "def uniquePairs(index):\n",
    "    \"\"\" list of unique, internal pairs \"\"\"\n",
    "    return list(combinations( range(index[0],index[-1]+1),2 ) )\n",
    "\n",
    "def addHarmonicConstraint(harmonicforce, pairlist, positions, threshold, k):\n",
    "    \"\"\" add harmonic bonds between pairs if distance is smaller than threshold \"\"\"\n",
    "    print('Constraint force constant =', k)\n",
    "    for i,j in pairlist:\n",
    "        distance = unit.norm( positions[i]-positions[j] )\n",
    "        if distance<threshold:\n",
    "            harmonicforce.addBond( i,j,\n",
    "                                   distance.value_in_unit(unit.nanometer),\n",
    "                                   k.value_in_unit( unit.kilojoule/unit.nanometer**2/unit.mole ))\n",
    "            print(\"added harmonic bond between\", i, j, 'with distance',distance)\n",
    "\n",
    "def addExclusions(nonbondedforce, pairlist):\n",
    "    \"\"\" add nonbonded exclusions between pairs \"\"\"\n",
    "    for i,j in pairlist:\n",
    "        nonbondedforce.addExclusion(i,j)\n",
    "\n",
    "def rigidifyResidue(residue, harmonicforce, positions, nonbondedforce=None,\n",
    "                    threshold=6.0*unit.angstrom, k=2500*unit.kilojoule/unit.nanometer**2/unit.mole):\n",
    "    \"\"\" make residue rigid by adding constraints and nonbonded exclusions \"\"\"\n",
    "    index    = atomIndexInResidue(residue)\n",
    "    pairlist = uniquePairs(index)\n",
    "    addHarmonicConstraint(harmonic, pairlist, pdb.positions, threshold, k)\n",
    "    if nonbondedforce is not None:\n",
    "        for i,j in pairlist:\n",
    "            print('added nonbonded exclusion between', i, j)\n",
    "            nonbonded.addExclusion(i,j)\n",
    "            \n",
    "def centerOfMass(positions, box):\n",
    "    \"\"\" Calculates the geometric center taking into account periodic boundaries\n",
    "    \n",
    "    More here: https://en.wikipedia.org/wiki/Center_of_mass#Systems_with_periodic_boundary_conditions\n",
    "    \"\"\"\n",
    "    theta=np.divide(positions, box).astype(np.float) * 2*np.pi\n",
    "    x1=np.array( [np.cos(theta[:,0]).mean(), np.cos(theta[:,1]).mean(), np.cos(theta[:,2]).mean()] )\n",
    "    x2=np.array( [np.sin(theta[:,0]).mean(), np.sin(theta[:,1]).mean(), np.sin(theta[:,2]).mean()] )\n",
    "    return box * (np.arctan2(-x1,-x2)+np.pi) / (2*np.pi)"
   ]
  },
  {
   "cell_type": "markdown",
   "metadata": {},
   "source": [
    "### Setup simulation"
   ]
  },
  {
   "cell_type": "code",
   "execution_count": 10,
   "metadata": {
    "collapsed": false
   },
   "outputs": [
    {
     "name": "stdout",
     "output_type": "stream",
     "text": [
      "setting force parameter lB = 0.7 nm\n",
      "setting force parameter kappa = 0.0\n",
      "[Quantity(value=2.3, unit=nanometer) Quantity(value=2.3, unit=nanometer)\n",
      " Quantity(value=2.5, unit=nanometer)]\n",
      "Constraint force constant = 2500 kJ/(nm**2 mol)\n",
      "added harmonic bond between 0 1 with distance 0.4 nm\n",
      "added harmonic bond between 0 2 with distance 0.565685424949 nm\n",
      "added harmonic bond between 0 3 with distance 0.4 nm\n",
      "added harmonic bond between 1 2 with distance 0.4 nm\n",
      "added harmonic bond between 1 3 with distance 0.565685424949 nm\n",
      "added harmonic bond between 2 3 with distance 0.4 nm\n",
      "added nonbonded exclusion between 0 1\n",
      "added nonbonded exclusion between 0 2\n",
      "added nonbonded exclusion between 0 3\n",
      "added nonbonded exclusion between 1 2\n",
      "added nonbonded exclusion between 1 3\n",
      "added nonbonded exclusion between 2 3\n",
      "[Quantity(value=2.3, unit=nanometer) Quantity(value=2.3, unit=nanometer)\n",
      " Quantity(value=1.9000000000000001, unit=nanometer)]\n",
      "Constraint force constant = 2500 kJ/(nm**2 mol)\n",
      "added harmonic bond between 4 5 with distance 0.4 nm\n",
      "added harmonic bond between 4 6 with distance 0.565685424949 nm\n",
      "added harmonic bond between 4 7 with distance 0.4 nm\n",
      "added harmonic bond between 5 6 with distance 0.4 nm\n",
      "added harmonic bond between 5 7 with distance 0.565685424949 nm\n",
      "added harmonic bond between 6 7 with distance 0.4 nm\n",
      "added nonbonded exclusion between 4 5\n",
      "added nonbonded exclusion between 4 6\n",
      "added nonbonded exclusion between 4 7\n",
      "added nonbonded exclusion between 5 6\n",
      "added nonbonded exclusion between 5 7\n",
      "added nonbonded exclusion between 6 7\n"
     ]
    }
   ],
   "source": [
    "pdb        = app.PDBFile('squares.pdb')\n",
    "forcefield = app.ForceField('yukawa.xml')\n",
    "system     = forcefield.createSystem(pdb.topology, nonbondedMethod=app.CutoffPeriodic, nonbondedCutoff=cutoff )\n",
    "box        = np.array(pdb.topology.getPeriodicBoxVectors()).diagonal()\n",
    "\n",
    "harmonic   = findForce(system, mm.HarmonicBondForce)\n",
    "nonbonded  = findForce(system, mm.CustomNonbondedForce)\n",
    "\n",
    "setGlobalForceParameter(nonbonded, 'lB', 0.7*unit.nanometer)\n",
    "setGlobalForceParameter(nonbonded, 'kappa', 0.0)\n",
    "\n",
    "for residue in pdb.topology.residues():\n",
    "    p = getResiduePositions(residue, pdb.positions)\n",
    "    print(centerOfMass(p, box))\n",
    "    rigidifyResidue(residue, harmonicforce=harmonic, nonbondedforce=nonbonded, positions=pdb.positions)\n",
    "                        \n",
    "integrator = mm.LangevinIntegrator(temperature, 1.0/unit.picoseconds, timestep)\n",
    "\n",
    "integrator.setConstraintTolerance(0.0001)"
   ]
  },
  {
   "cell_type": "markdown",
   "metadata": {},
   "source": [
    "### Run simulation"
   ]
  },
  {
   "cell_type": "code",
   "execution_count": 11,
   "metadata": {
    "collapsed": false
   },
   "outputs": [
    {
     "name": "stdout",
     "output_type": "stream",
     "text": [
      "Minimizing...\n",
      "Equilibrating...\n",
      "Production...\n",
      "#\"Progress (%)\"\t\"Step\"\t\"Potential Energy (kJ/mole)\"\t\"Temperature (K)\"\t\"Box Volume (nm^3)\"\t\"Speed (ns/day)\"\n",
      "30.0%\t7500\t11.0131477032\t365.096087233\t1000.0\t0\n",
      "40.0%\t10000\t4.8144297977\t471.471481815\t1000.0\t2.73e+03\n",
      "50.0%\t12500\t12.0211700662\t206.068451567\t1000.0\t2.68e+03\n",
      "60.0%\t15000\t17.2765251058\t457.505593603\t1000.0\t2.62e+03\n",
      "70.0%\t17500\t19.6206031144\t303.497468184\t1000.0\t2.61e+03\n",
      "80.0%\t20000\t10.5103588598\t354.879128936\t1000.0\t2.57e+03\n",
      "90.0%\t22500\t6.9912172528\t555.040070009\t1000.0\t2.56e+03\n",
      "100.0%\t25000\t4.45059069199\t277.202268479\t1000.0\t2.56e+03\n",
      "Done!\n"
     ]
    }
   ],
   "source": [
    "simulation = app.Simulation(pdb.topology, system, integrator)\n",
    "simulation.context.setPositions(pdb.positions)\n",
    "\n",
    "if useMinimize:\n",
    "    print('Minimizing...')\n",
    "    simulation.minimizeEnergy()\n",
    "\n",
    "print('Equilibrating...')\n",
    "simulation.context.setVelocitiesToTemperature(300*unit.kelvin)\n",
    "simulation.step(steps_eq)\n",
    "\n",
    "simulation.reporters.append(mdtraj.reporters.HDF5Reporter('trajectory.h5', 100))\n",
    "simulation.reporters.append(\n",
    "    app.StateDataReporter(stdout, int(steps_total/10), step=True, \n",
    "    potentialEnergy=True, temperature=True, progress=True, remainingTime=False, \n",
    "    speed=True, totalSteps=steps_total, volume=True, separator='\\t'))\n",
    "\n",
    "print('Production...')\n",
    "simulation.step(steps_production)\n",
    "\n",
    "print('Done!')"
   ]
  },
  {
   "cell_type": "code",
   "execution_count": null,
   "metadata": {
    "collapsed": true
   },
   "outputs": [],
   "source": []
  }
 ],
 "metadata": {
  "kernelspec": {
   "display_name": "Python 2",
   "language": "python",
   "name": "python2"
  },
  "language_info": {
   "codemirror_mode": {
    "name": "ipython",
    "version": 2
   },
   "file_extension": ".py",
   "mimetype": "text/x-python",
   "name": "python",
   "nbconvert_exporter": "python",
   "pygments_lexer": "ipython2",
   "version": "2.7.11"
  }
 },
 "nbformat": 4,
 "nbformat_minor": 0
}

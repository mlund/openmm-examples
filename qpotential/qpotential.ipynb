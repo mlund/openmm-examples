{
 "cells": [
  {
   "cell_type": "markdown",
   "metadata": {},
   "source": [
    "# Truncated potentials for long-range electrostatics\n",
    "\n",
    "_Björn Stenqvist and Mikael Lund, Div. of Theoretical Chemistry, Lund University, Sweden, 2016_\n",
    "\n",
    "In this notebook we test the validity of a variety of Wolf-inspired potentials and compare with a default Ewald summation on a sinple box of water.\n",
    "\n",
    "Install prerequisites using `conda`:\n",
    "```bash\n",
    "    $ conda config --add channels omnia\n",
    "    $ conda install -c omnia openmm mdtraj packmol\n",
    "```\n",
    "\n",
    "Also, Gromacs analysis tools (`gmx`) must be installed for parts of the analysis."
   ]
  },
  {
   "cell_type": "code",
   "execution_count": null,
   "metadata": {
    "collapsed": false
   },
   "outputs": [],
   "source": [
    "%matplotlib inline\n",
    "from simtk.openmm.app import *\n",
    "from simtk.openmm import *\n",
    "from simtk.unit import *\n",
    "from sys import stdout\n",
    "import matplotlib, matplotlib.pyplot as plt\n",
    "import pandas as pd\n",
    "from io import StringIO\n",
    "import numpy as np, os\n",
    "matplotlib.rcParams.update({'font.size': 12})\n",
    "\n",
    "# simulation parameters\n",
    "\n",
    "nsteps     = 50000          # number of MD steps each of 2 fs\n",
    "nwater     = 1000           # number of water molecules\n",
    "cutoff     = 1.2*nanometers # pair potential cutoff\n",
    "platform   = 'OpenCL'       # 'OpenCL', 'CUDA', 'CPU'\n",
    "\n",
    "rho        = 216/18.6206**3 # density from gromacs spc216.gro\n",
    "boxlen     = (nwater/rho)**(1/3)\n",
    "\n",
    "print('box length = ', boxlen*angstrom)\n",
    "print('half box   = ', boxlen*angstrom/2)"
   ]
  },
  {
   "cell_type": "markdown",
   "metadata": {},
   "source": [
    "### Create initial box of water\n",
    "\n",
    "First create a single water molecule pdb file, then use this to fill up a predefined box using the command line tool `packmol`. In this example, $N$ and $L$ are taken form the Gromacs `spc216.gro` file."
   ]
  },
  {
   "cell_type": "code",
   "execution_count": null,
   "metadata": {
    "collapsed": false
   },
   "outputs": [],
   "source": [
    "%%writefile hoh.pdb\n",
    "CRYST1   30.000   30.000   30.000  90.00  90.00  90.00 P 1           1\n",
    "ATOM      1  OW  HOH A   1      27.552  11.051   7.172  1.00  0.00          O\n",
    "ATOM      2  HW1 HOH A   1      27.900  10.721   8.050  1.00  0.00          H\n",
    "ATOM      3  HW2 HOH A   1      26.606  11.355   7.281  1.00  0.00          H \n",
    "END"
   ]
  },
  {
   "cell_type": "code",
   "execution_count": null,
   "metadata": {
    "collapsed": false
   },
   "outputs": [],
   "source": [
    "# write input file for packmol\n",
    "PACKMOL_INPUT = \"\"\" \n",
    "tolerance %f\n",
    "filetype pdb\n",
    "output %s\n",
    "\n",
    "# hoh will be put in a box\n",
    "# defined by the minimum coordinates x, y and z = 0. 0. 0. and maximum\n",
    "# coordinates box_size box_size box_size That is, they will be put in a cube of side\n",
    "# box_size (the keyword \"inside cube 0. 0. 0. box_size\") could be used as well.\n",
    "\n",
    "structure %s\n",
    "  number %d\n",
    "  inside box 0. 0. 0. %f %f %f \n",
    "  add_box_sides 0.0\n",
    "end structure\n",
    "\"\"\" % (2.,'water.pdb','hoh.pdb', nwater, boxlen, boxlen, boxlen)\n",
    "\n",
    "!echo '$PACKMOL_INPUT' > packmol_input.txt\n",
    "!packmol < packmol_input.txt > /dev/null"
   ]
  },
  {
   "cell_type": "markdown",
   "metadata": {},
   "source": [
    "### Create OpenMM `System` classes for a variety of long-range correction schemes\n",
    "\n",
    "Here the idea is to create all the different setups and add then to the `systemlist` dictionary. Ewald summation (and PME) can be setup using the default `NonbondedForce` class, while `CustomNonbondedForce` must be used for custom pair potentials as used in Wolf, Stenqvist etc.\n",
    "\n",
    "For more information on how to control force objects and simulation, check,\n",
    "\n",
    "* [OpenMM python API](http://docs.openmm.org).\n",
    "* Lennard-Jones + Ewald at http://docs.openmm.org/7.0.0/userguide/theory.html#nonbondedforce\n",
    "* Long range correction beyond cut-off: http://docs.openmm.org/7.0.0/userguide/theory.html#customnonbondedforce\n",
    "\n",
    "_TODO_: Smoothen LJ part at $R_c$. Use switching function?"
   ]
  },
  {
   "cell_type": "code",
   "execution_count": null,
   "metadata": {
    "collapsed": false
   },
   "outputs": [],
   "source": [
    "elec_to_kJmol = (\n",
    "    constants.elementary_charge**2 *\n",
    "    AVOGADRO_CONSTANT_NA / (4*np.pi*1.0*8.854187817e-12\n",
    "                            * constants.farad/constants.meter)).value_in_unit(kilojoule_per_mole*nanometer)\n",
    "\n",
    "def findForce(system, forcetype, add=True):\n",
    "    \"\"\" Finds a specific force in the system force list - added if not found.\"\"\"\n",
    "    for force in system.getForces():\n",
    "        if isinstance(force, forcetype):\n",
    "            return force\n",
    "    if add==True:\n",
    "        system.addForce(forcetype())\n",
    "        return findForce(system, forcetype)\n",
    "    return None\n",
    "\n",
    "def make_qpotential_system(topology, Rc=0.9*nanometers, moments=1000):\n",
    "    ''' return a q-potential system (TO '''\n",
    "    \n",
    "    ff = ForceField('spce-custom.xml') # this will create a CustomNonbondedForce\n",
    "    system = ff.createSystem(\n",
    "        topology, nonbondedMethod=CutoffPeriodic,\n",
    "        nonbondedCutoff=Rc, constraints=HBonds, rigidWater=True)\n",
    "    \n",
    "    def qPochhammerSymbol( Rc, moments ):\n",
    "        if isinstance(Rc, Quantity):\n",
    "            Rc = Rc / nanometer # strip unit\n",
    "        qP = 1.0\n",
    "        r = np.linspace(0, Rc, 5000)\n",
    "        for i in range( moments ):\n",
    "            qP *= (1 - (r/Rc)**(i+1) )\n",
    "        return qP\n",
    " \n",
    "    qP = Continuous1DFunction( qPochhammerSymbol(Rc, moments), 0*nanometers, Rc)\n",
    "\n",
    "    nonbonded = findForce(system, CustomNonbondedForce)\n",
    "    nonbonded.addTabulatedFunction( 'qP', qP )         # 'qP(r)' can now be used in energy function\n",
    "    nonbonded.addGlobalParameter( 'f', elec_to_kJmol ) # convert to kJ/mol\n",
    "    \n",
    "    nonbonded.setEnergyFunction(\n",
    "        'f * charge1 * charge2 * qP(r)/r' \\\n",
    "        ' + 4 * epsilon * ( (sigma/r)^12 - (sigma/r)^6 )' \\\n",
    "        ' ; sigma = 0.5 * ( sigma1+sigma2 ); epsilon = sqrt( epsilon1*epsilon2 )'\n",
    "    )\n",
    "\n",
    "    print('qpot')\n",
    "    print('    periodic boundaries:  ', nonbonded.usesPeriodicBoundaryConditions())\n",
    "    print('    switching function:   ', nonbonded.getUseSwitchingFunction())\n",
    "    print('    long-range correction:', nonbonded.getUseLongRangeCorrection())\n",
    "    print('    cutoff distance:      ', nonbonded.getCutoffDistance())\n",
    "    print('    energy function:      ', nonbonded.getEnergyFunction())\n",
    "    \n",
    "    return system\n",
    "\n",
    "def make_grekiss_system(topology, Rc=0.9*nanometers):\n",
    "    ''' return a grekis system '''\n",
    "    \n",
    "    ff = ForceField('spce-custom.xml') # this will create a CustomNonbondedForce\n",
    "    system = ff.createSystem(\n",
    "        topology, nonbondedMethod=CutoffPeriodic,\n",
    "        nonbondedCutoff=Rc, constraints=HBonds, rigidWater=True)\n",
    "    \n",
    "    nonbonded = findForce(system, CustomNonbondedForce)\n",
    "    nonbonded.addGlobalParameter( 'Rc', Rc )           # 'Rc' can now be used in energy function\n",
    "    nonbonded.addGlobalParameter( 'f', elec_to_kJmol ) # 'lB' bjerrum length in nm and kJ/mol\n",
    "    \n",
    "    nonbonded.setEnergyFunction(\n",
    "        'f * charge1 * charge2 * 1/r * ( 1 - 1.75*r/Rc + 5.25*(r/Rc)^5 - 7*(r/Rc)^6 + 2.5*(r/Rc)^7 )' \\\n",
    "        ' + 4 * epsilon * ( (sigma/r)^12 - (sigma/r)^6 )' \\\n",
    "        ' ; sigma = 0.5 * (sigma1+sigma2); epsilon = sqrt( epsilon1*epsilon2 )'\n",
    "    )\n",
    "\n",
    "    print('fanourgakis')\n",
    "    print('    periodic boundaries:  ', nonbonded.usesPeriodicBoundaryConditions())\n",
    "    print('    switching function:   ', nonbonded.getUseSwitchingFunction())\n",
    "    print('    long-range correction:', nonbonded.getUseLongRangeCorrection())\n",
    "    print('    cutoff distance:      ', nonbonded.getCutoffDistance())\n",
    "    print('    energy function:      ', nonbonded.getEnergyFunction())\n",
    "    \n",
    "    return system\n",
    "\n",
    "def make_yonezawa_system(topology, Rc=0.9*nanometers):\n",
    "    ''' return a yonezawa system '''\n",
    "    \n",
    "    ff = ForceField('spce-custom.xml') # this will create a CustomNonbondedForce\n",
    "    system = ff.createSystem(\n",
    "        topology, nonbondedMethod=CutoffPeriodic,\n",
    "        nonbondedCutoff=Rc, constraints=HBonds, rigidWater=True)\n",
    "\n",
    "    nonbonded = findForce(system, CustomNonbondedForce)\n",
    "    nonbonded.addGlobalParameter( 'Rc', Rc )           # 'Rc' can now be used in energy function\n",
    "    nonbonded.addGlobalParameter( 'f', elec_to_kJmol ) # 'lB' bjerrum length in nm and kJ/mol\n",
    "    \n",
    "    nonbonded.setEnergyFunction(\n",
    "        'f * charge1 * charge2 * ( 1/r - 1/Rc + 1/Rc^2 * (r-Rc) )' \\\n",
    "        ' + 4 * epsilon * ( (sigma/r)^12 - (sigma/r)^6 )' \\\n",
    "        ' ; sigma = 0.5 * ( sigma1+sigma2 ); epsilon = sqrt( epsilon1 * epsilon2 )'\n",
    "    )\n",
    "\n",
    "    print('yonezawa')\n",
    "    print('    periodic boundaries:  ', nonbonded.usesPeriodicBoundaryConditions())\n",
    "    print('    switching function:   ', nonbonded.getUseSwitchingFunction())\n",
    "    print('    long-range correction:', nonbonded.getUseLongRangeCorrection())\n",
    "    print('    cutoff distance:      ', nonbonded.getCutoffDistance())\n",
    "    print('    energy function:      ', nonbonded.getEnergyFunction())\n",
    "    \n",
    "    return system\n",
    "\n",
    "def make_ewald_system(topology, Rc=0.9*nanometers, method=Ewald, ljcorr=False):\n",
    "    ''' returns an Ewald system '''\n",
    "    ff = ForceField('spce.xml') # this will create a NonbondedForce\n",
    "    \n",
    "    system = ff.createSystem(\n",
    "        topology, nonbondedMethod=method,\n",
    "        nonbondedCutoff=Rc, constraints=HBonds, rigidWater=True)\n",
    "    \n",
    "    nonbonded = findForce(system, NonbondedForce)\n",
    "    nonbonded.setUseDispersionCorrection( ljcorr )\n",
    "\n",
    "    print('ewald')\n",
    "    print('    err. tolerance:       ', nonbonded.getEwaldErrorTolerance())\n",
    "    print('    LJ switching function:', nonbonded.getUseSwitchingFunction())\n",
    "    print('    LJ correction:        ', nonbonded.getUseDispersionCorrection())\n",
    "    print('    cutoff distance:      ', nonbonded.getCutoffDistance())\n",
    " \n",
    "    return system\n",
    "\n",
    "pdb = PDBFile('water.pdb')\n",
    "\n",
    "# here we define our list of system incl. plotting properties. All files from simulation\n",
    "# and analysis will be prefixed with 'qpot.', 'ewald.', etc.\n",
    "\n",
    "systemlist = {\n",
    "    'yonezawa': {\n",
    "        'system': make_yonezawa_system( pdb.topology, Rc=cutoff ), 'npt': False,\n",
    "        'run': False, 'color': 'blue', 'label': 'Yonezawa'\n",
    "    },\n",
    "    'grekiss': {\n",
    "        'system': make_grekiss_system( pdb.topology, Rc=cutoff ), 'npt': False,\n",
    "        'run': False, 'color': 'green', 'label': 'Fanourgakis'\n",
    "    },\n",
    "    'qpot' : {\n",
    "        'system': make_qpotential_system( pdb.topology, Rc=cutoff ), 'npt': False,\n",
    "        'run': False, 'color': 'red', 'label': '$q$ ($n=\\infty$)'\n",
    "    },\n",
    "    'qpot2' : {\n",
    "        'system': make_qpotential_system( pdb.topology, Rc=cutoff, moments=2 ), 'npt': False,\n",
    "        'run': True, 'color': 'orange', 'label': '$q$ ($n=2$)'\n",
    "    },\n",
    "    'qpot3' : {\n",
    "        'system': make_qpotential_system( pdb.topology, Rc=cutoff, moments=3 ), 'npt': False,\n",
    "        'run': False, 'color': 'magenta', 'label': '$q$ ($n=3$)'\n",
    "    },\n",
    "    'ewald': {\n",
    "        'system': make_ewald_system( pdb.topology, Rc=cutoff ), 'npt': False,\n",
    "        'run': False, 'color': 'black', 'label': 'Ewald'\n",
    "    }\n",
    "}"
   ]
  },
  {
   "cell_type": "markdown",
   "metadata": {},
   "source": [
    "Here we perform the actual MD simulation, incl. minimization of all defined systems"
   ]
  },
  {
   "cell_type": "code",
   "execution_count": null,
   "metadata": {
    "collapsed": false
   },
   "outputs": [],
   "source": [
    "for name, prop in systemlist.items(): # loop over systems\n",
    "    \n",
    "    if prop['run']:\n",
    "\n",
    "        print(name)\n",
    "\n",
    "        if prop['npt']: # NVT -> NPT ensemble ?\n",
    "            print('    adding barostat.')\n",
    "            barostat = MonteCarloBarostat(1.0*bar, 298.15*kelvin, 25) \n",
    "            system.addForce(barostat)\n",
    "\n",
    "        integrator = LangevinIntegrator( 298.15*kelvin, 1.0/picoseconds, 2*femtoseconds )\n",
    "        integrator.setConstraintTolerance(0.00001)\n",
    "        _platform = Platform.getPlatformByName( platform ) # CPU, OpenCL\n",
    "        sim = Simulation(pdb.topology, prop['system'], integrator, _platform)\n",
    "        sim.context.setPositions(pdb.positions) # set particle positions\n",
    "\n",
    "        if os.path.isfile( name+'.chk' ):\n",
    "            with open( name+'.chk', 'rb') as f:\n",
    "                print('    loading restart file.')\n",
    "                sim.context.loadCheckpoint( f.read() )\n",
    "        else:\n",
    "            print('    minimizing energy...')\n",
    "            sim.reporters.clear()\n",
    "            %time sim.minimizeEnergy( tolerance=50*kilojoule/mole, maxIterations=1000 )\n",
    "            sim.context.setVelocitiesToTemperature( 298.15*kelvin ) # initial random velocities\n",
    "\n",
    "        print('    running Production...')\n",
    "        sim.reporters.clear()\n",
    "        sim.reporters.append( DCDReporter( name+'.dcd', 1000) )\n",
    "\n",
    "        sim.reporters.append( StateDataReporter(name+'.energy', 1000, step=True, potentialEnergy=True,\n",
    "                                                temperature=True, density=True) )\n",
    "\n",
    "        sim.reporters.append( StateDataReporter(stdout, 1000, step=True, potentialEnergy=True,\n",
    "                                                temperature=True, density=True, separator='\\t',\n",
    "                                                progress=True,\n",
    "                                                totalSteps = nsteps) )\n",
    "\n",
    "        %time sim.step( nsteps )\n",
    "\n",
    "        with open( name+'.chk', 'wb') as f:\n",
    "            print('    saving restart file.')\n",
    "            f.write( sim.context.createCheckpoint() )\n",
    "\n",
    "        # save final configuration to PDB file\n",
    "        # todo: something is fishy here... water molecules are outside the box\n",
    "        #       in pdb although the trajectory looks fine. Å->nm problem?\n",
    "        positions = sim.context.getState( getPositions=True ).getPositions()\n",
    "        PDBFile.writeFile(sim.topology, positions, open( name+'.pdb', 'w'))\n",
    "        print()"
   ]
  },
  {
   "cell_type": "markdown",
   "metadata": {
    "collapsed": true
   },
   "source": [
    "### Oxygen-oxygen radial distribution function"
   ]
  },
  {
   "cell_type": "code",
   "execution_count": null,
   "metadata": {
    "collapsed": false
   },
   "outputs": [],
   "source": [
    "import mdtraj as md\n",
    "\n",
    "for name, prop in systemlist.items():\n",
    "    print(name)\n",
    "    \n",
    "    traj = md.load(name+'.dcd', top=name+'.pdb')\n",
    "    sel = traj.top.select('name O')\n",
    "    OOpairs = traj.top.select_pairs('name O', 'name O')\n",
    "    rdf = md.compute_rdf( traj, pairs=OOpairs, bin_width=0.005, r_range=[0.2, boxlen/2/10] )\n",
    "    \n",
    "    plt.plot( rdf[0], rdf[1], label=prop['label'], color=prop['color'], lw=1)\n",
    "\n",
    "plt.xlim(0.2, 0.8)\n",
    "plt.xlabel(r'$r$/nm')\n",
    "plt.ylabel(r'$g(r)$')\n",
    "plt.legend(loc=0, frameon=False, fontsize='medium')"
   ]
  },
  {
   "cell_type": "markdown",
   "metadata": {},
   "source": [
    "### Average potential energy"
   ]
  },
  {
   "cell_type": "code",
   "execution_count": null,
   "metadata": {
    "collapsed": false
   },
   "outputs": [],
   "source": [
    "for name, prop in systemlist.items():\n",
    "\n",
    "    step, Upot, temp, density = np.loadtxt(name+'.energy', skiprows=1, delimiter=',', unpack=True)\n",
    "    Upot = Upot / pdb.topology.getNumResidues() # -> energy per water molecule\n",
    "\n",
    "    plt.plot( step, Upot, label=prop['label'], color=prop['color'], lw=0.5 )\n",
    "    plt.plot( [0,step.max()], [Upot.mean(), Upot.mean()], color=prop['color'], ls='--', lw=0.5 )\n",
    "    prop['energy'] = Upot.mean()\n",
    "\n",
    "plt.xlabel(r'steps')\n",
    "plt.ylabel(r'$U_{pot}/N$ (kJ/mol)')\n",
    "plt.legend(loc=1, frameon=True, fontsize='small')    "
   ]
  },
  {
   "cell_type": "markdown",
   "metadata": {},
   "source": [
    "### Static dielectric constant\n",
    "\n",
    "The exact formula for $\\epsilon_r$ is not given in the `mdtraj` documentation, but can be found in the source code on github,\n",
    "\n",
    "https://github.com/mdtraj/mdtraj/blob/master/mdtraj/geometry/thermodynamic_properties.py#L90"
   ]
  },
  {
   "cell_type": "code",
   "execution_count": null,
   "metadata": {
    "collapsed": false
   },
   "outputs": [],
   "source": [
    "def getChargeVector( force, stripunit=True ):\n",
    "    ''' Extract particle charge array from force object if available\n",
    "    \n",
    "    Note that this function assumes that charge is located at parameter\n",
    "    position 0 which is default in NonbondedForce while it can be anywhere\n",
    "    in CustomNonbondedForce, following the order in which\n",
    "    parameters were added in python/xml.\n",
    "    '''\n",
    "    if isinstance(force, (NonbondedForce, CustomNonbondedForce) ):\n",
    "        if 'getParticleParameters' in dir(force):\n",
    "            chargelist = []\n",
    "            for i in range( force.getNumParticles() ):\n",
    "                charge = force.getParticleParameters( i )[ 0 ]\n",
    "                if stripunit:\n",
    "                    if isinstance(charge, Quantity):\n",
    "                        charge = charge / elementary_charge # strip unit\n",
    "                chargelist.append( charge )\n",
    "            return chargelist\n",
    "    return None\n",
    "    \n",
    "for name, prop in systemlist.items():\n",
    "\n",
    "    for force in prop['system'].getForces():\n",
    "        if isinstance(force, (NonbondedForce, CustomNonbondedForce) ):\n",
    "            charges = getChargeVector( force )\n",
    "            traj = md.load(name+'.dcd', top=name+'.pdb')\n",
    "\n",
    "            l = len(traj)\n",
    "            l2= int(l/2)\n",
    "            \n",
    "            eps12= md.static_dielectric( traj[1:l], charges, temperature=298.15)  # all\n",
    "            eps1 = md.static_dielectric( traj[1:l2], charges, temperature=298.15) # 1st half\n",
    "            eps2 = md.static_dielectric( traj[l2:l], charges, temperature=298.15) # 2nd half\n",
    "            \n",
    "            prop['diel'] = eps12\n",
    "            \n",
    "            print(name, ': diel. const.', eps12, eps1, eps2)\n",
    "\n",
    "pd.DataFrame(systemlist).T"
   ]
  },
  {
   "cell_type": "markdown",
   "metadata": {},
   "source": [
    "## Gromacs analysis\n",
    "\n",
    "We now generate a topology (top/tpr) file for Gromacs in order to use use their analysis tools, in particular for dipol correlations. These files are identitical for all electrostatic schemes.\n",
    "**NOTE**: Depending on the size of the water box, `grompp` may complain that the cut-off is too short. Fix this by increasing the verlet tolerance. It will not matter for the analysis, but consider making a slightly larger system. "
   ]
  },
  {
   "cell_type": "code",
   "execution_count": null,
   "metadata": {
    "collapsed": false,
    "scrolled": false
   },
   "outputs": [],
   "source": [
    "%%bash\n",
    "rm -fR \n",
    "echo -n \"6\\n\" | gmx -quiet -nobackup pdb2gmx -f water.pdb -o water.gro -p water.top -n water.ndx -water spce -maxwarn 10\n",
    "gmx -quiet -nobackup grompp -v -f water.mdp -c water.gro -p water.top -o water.tpr -maxwarn 10"
   ]
  },
  {
   "cell_type": "markdown",
   "metadata": {},
   "source": [
    "### Convert trajectory to XTC format and calculate dipolar correlations\n",
    "\n",
    "See description of the `-g` option in `gmx dipoles`, relating to http://manual.gromacs.org/programs/gmx-dipoles.html (Nymand/Linse)."
   ]
  },
  {
   "cell_type": "code",
   "execution_count": null,
   "metadata": {
    "collapsed": false
   },
   "outputs": [],
   "source": [
    "for name, prop in systemlist.items():\n",
    "    print(name)\n",
    "    \n",
    "    traj = md.load(name+'.dcd', top=name+'.pdb')\n",
    "    traj.save_xtc(name+'.xtc')\n",
    "\n",
    "    !echo -n \"0\\n\" | gmx -quiet -nobackup dipoles -f $name'.xtc' -s water.tpr -temp 298.15 -g $name'.gkr.xvg'\n",
    "\n",
    "    print()"
   ]
  },
  {
   "cell_type": "code",
   "execution_count": null,
   "metadata": {
    "collapsed": false
   },
   "outputs": [],
   "source": [
    "fig, ((ax1, ax2), (ax3, ax4)) = plt.subplots(nrows=2, ncols=2, figsize=(8, 7))\n",
    "\n",
    "for name, prop in systemlist.items():\n",
    "    r, G, cos, hOO, gOO, energy = np.loadtxt(name+'.gkr.xvg', skiprows=27, unpack=True)\n",
    "    \n",
    "    ax1.plot(r, G,   label=prop['label'], color=prop['color'], lw=1 )\n",
    "    ax1.set_xlabel('$r$/nm')\n",
    "    ax1.set_ylabel('$G_k(r)$')\n",
    "\n",
    "    ax2.plot(r, cos, label=prop['label'], color=prop['color'], lw=1 )\n",
    "    ax2.set_xlabel('$r$/nm')\n",
    "    ax2.set_ylabel('cosine something...')\n",
    "    ax2.set_xlim(0.2, 0.8)\n",
    "    ax2.set_ylim(-0.1, 0.55)\n",
    "    \n",
    "    ax3.plot(r, hOO, label=prop['label'], color=prop['color'], lw=1 )\n",
    "    ax3.set_xlabel('$r$/nm')\n",
    "    ax3.set_ylabel('hOO')\n",
    "    ax3.set_xlim(0.2, 0.8)\n",
    "    \n",
    "    ax4.plot(r, gOO, label=prop['label'], color=prop['color'], lw=1 )\n",
    "    ax4.set_xlabel('$r$/nm')\n",
    "    ax4.set_ylabel('gOO')\n",
    "    ax4.set_xlim(0.2, 0.8)\n",
    "    \n",
    "    ax2.legend(loc=0, frameon=False, fontsize='medium')\n",
    "plt.tight_layout()"
   ]
  },
  {
   "cell_type": "code",
   "execution_count": null,
   "metadata": {
    "collapsed": true
   },
   "outputs": [],
   "source": []
  }
 ],
 "metadata": {
  "anaconda-cloud": {},
  "kernelspec": {
   "display_name": "Python [default]",
   "language": "python",
   "name": "python3"
  },
  "language_info": {
   "codemirror_mode": {
    "name": "ipython",
    "version": 3
   },
   "file_extension": ".py",
   "mimetype": "text/x-python",
   "name": "python",
   "nbconvert_exporter": "python",
   "pygments_lexer": "ipython3",
   "version": "3.5.2"
  }
 },
 "nbformat": 4,
 "nbformat_minor": 0
}

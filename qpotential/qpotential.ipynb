{
 "cells": [
  {
   "cell_type": "markdown",
   "metadata": {},
   "source": [
    "# Simulation of a water box using the $q$-potential\n",
    "\n",
    "This will simulate a box of SPC/E water using a custom nonbonded force based on a tabulated $q$-potential. It can also perform a simulation using Ewald summation.\n",
    "\n",
    "Install prerequisites using `conda`:\n",
    "```bash\n",
    "    $ conda config --add channels omnia\n",
    "    $ conda install -c omnia openmm mdtraj packmol\n",
    "```"
   ]
  },
  {
   "cell_type": "code",
   "execution_count": null,
   "metadata": {
    "collapsed": false
   },
   "outputs": [],
   "source": [
    "%matplotlib inline\n",
    "from simtk.openmm.app import *\n",
    "from simtk.openmm import *\n",
    "from simtk.unit import *\n",
    "from sys import stdout\n",
    "import matplotlib.pyplot as plt\n",
    "from io import StringIO\n",
    "import numpy as np, os"
   ]
  },
  {
   "cell_type": "code",
   "execution_count": null,
   "metadata": {
    "collapsed": false
   },
   "outputs": [],
   "source": [
    "# simulation parameters: more to be added\n",
    "\n",
    "nsteps  = 2000    # number of MD steps\n",
    "boxlen  = 18.6206 # size of the cubic box in Å\n",
    "nwater  = 216     # number of water molecules\n",
    "NPT     = False   # NPT ensemble using pressure coupling?\n",
    "\n",
    "# write input file for packmol\n",
    "PACKMOL_INPUT = \"\"\" \n",
    "tolerance %f\n",
    "filetype pdb\n",
    "output %s\n",
    "\n",
    "# hoh will be put in a box\n",
    "# defined by the minimum coordinates x, y and z = 0. 0. 0. and maximum\n",
    "# coordinates box_size box_size box_size That is, they will be put in a cube of side\n",
    "# box_size (the keyword \"inside cube 0. 0. 0. box_size\") could be used as well.\n",
    "\n",
    "structure %s\n",
    "  number %d\n",
    "  inside box 0. 0. 0. %f %f %f \n",
    "  add_box_sides 0.0\n",
    "end structure\n",
    "\"\"\" % (2.,'box.pdb','hoh.pdb', nwater, boxlen, boxlen, boxlen)\n",
    "\n",
    "!echo '$PACKMOL_INPUT' > packmol_input.txt"
   ]
  },
  {
   "cell_type": "code",
   "execution_count": null,
   "metadata": {
    "collapsed": false
   },
   "outputs": [],
   "source": [
    "%%writefile hoh.pdb\n",
    "CRYST1   30.000   30.000   30.000  90.00  90.00  90.00 P 1           1\n",
    "ATOM      1  O   HOH A   1      27.552  11.051   7.172  1.00  0.00          O\n",
    "ATOM      2  H1  HOH A   1      27.900  10.721   8.050  1.00  0.00          H\n",
    "ATOM      3  H2  HOH A   1      26.606  11.355   7.281  1.00  0.00          H \n",
    "END"
   ]
  },
  {
   "cell_type": "code",
   "execution_count": null,
   "metadata": {
    "collapsed": false
   },
   "outputs": [],
   "source": [
    "# use packmol to create a system of randomly placed molecules\n",
    "!packmol < packmol_input.txt > /dev/null"
   ]
  },
  {
   "cell_type": "code",
   "execution_count": null,
   "metadata": {
    "collapsed": false
   },
   "outputs": [],
   "source": [
    "def findForce(system, forcetype, add=True):\n",
    "    \"\"\" Finds a specific force in the system force list - added if not found.\"\"\"\n",
    "    for force in system.getForces():\n",
    "        if isinstance(force, forcetype):\n",
    "            return force\n",
    "    if add==True:\n",
    "        system.addForce(forcetype())\n",
    "        return findForce(system, forcetype)\n",
    "    return None\n",
    "\n",
    "def make_qpotential_system(topology, cutoff=0.9*nanometers):\n",
    "    ff = ForceField('spce-qpot.xml')\n",
    "    system = ff.createSystem(\n",
    "        topology, nonbondedMethod=CutoffPeriodic,\n",
    "        nonbondedCutoff=cutoff, constraints=HBonds, rigidWater=True)\n",
    "\n",
    "    # tabulated q-potential to be implemented\n",
    "    x = np.linspace( 0.001,1, 1000 )\n",
    "    array = 1/x-1\n",
    "    fwolf = Continuous1DFunction(array, 0*nanometers, 1*nanometers)\n",
    "\n",
    "    nonbonded = findForce(system, CustomNonbondedForce)\n",
    "    nonbonded.addTabulatedFunction('wolf', fwolf) # 'wolf(r)' can now be used in energy function\n",
    "    nonbonded.addGlobalParameter('Rc', cutoff)    # 'Rc' can now be used in energy function\n",
    "    nonbonded.setEnergyFunction(\n",
    "        'charge1*charge2*wolf(r)' \\\n",
    "        ' + 4*epsilon*((sigma/r)^12-(sigma/r)^6) ; sigma=0.5*(sigma1+sigma2); epsilon=sqrt(epsilon1*epsilon2)' )\n",
    "    print('Pair potential:\\n  u12(r) =', nonbonded.getEnergyFunction())\n",
    "    return system\n",
    "\n",
    "def make_ewald_system(topology, cutoff=0.9*nanometers):\n",
    "    ff = ForceField('spce.xml')\n",
    "    return ff.createSystem(\n",
    "        topology, nonbondedMethod=Ewald,\n",
    "        nonbondedCutoff=cutoff, constraints=HBonds, rigidWater=True)\n",
    "    \n",
    "print('Creating OpenMM System')\n",
    "\n",
    "pdb = PDBFile('box.pdb')\n",
    "\n",
    "system = make_qpotential_system( pdb.topology )\n",
    "#system = make_ewald_system( pdb.topology )\n",
    "\n",
    "integrator = LangevinIntegrator( 298.15*kelvin, 1.0/picoseconds, 2*femtoseconds )\n",
    "integrator.setConstraintTolerance(0.00001)\n",
    "\n",
    "if NPT:\n",
    "    barostat = MonteCarloBarostat(1.0*bar, 298.15*kelvin, 25) \n",
    "    system.addForce(barostat)\n",
    "\n",
    "platform = Platform.getPlatformByName('CPU')\n",
    "\n",
    "# Create the Simulation object\n",
    "sim = Simulation(pdb.topology, system, integrator, platform)\n",
    "sim.context.setPositions(pdb.positions) # set particle positions"
   ]
  },
  {
   "cell_type": "code",
   "execution_count": null,
   "metadata": {
    "collapsed": false
   },
   "outputs": [],
   "source": [
    "minimize=True\n",
    "production=True\n",
    "restart=True\n",
    "restartfile='out.chk'\n",
    "\n",
    "if minimize:\n",
    "    print('Minimizing energy...')\n",
    "    sim.reporters.clear()\n",
    "    sim.minimizeEnergy( tolerance=10*kilojoule/mole, maxIterations=1000 )\n",
    "    sim.context.setVelocitiesToTemperature( 298.15*kelvin ) # initial random velocities\n",
    "\n",
    "if production:\n",
    "    print('Running Production...')\n",
    "    sim.reporters.clear()\n",
    "    sim.reporters.append( DCDReporter('out.dcd', 10) )\n",
    "    sim.reporters.append( StateDataReporter(stdout, 100, step=True, potentialEnergy=True,\n",
    "                                            temperature=True, density=True, separator='\\t',\n",
    "                                            progress=True,\n",
    "                                            totalSteps = nsteps) )\n",
    "\n",
    "    if restart:\n",
    "        if os.path.isfile( restartfile ):\n",
    "            with open( restartfile, 'rb') as f:\n",
    "                print('Loading restart file.')\n",
    "                sim.context.loadCheckpoint( f.read() )\n",
    "\n",
    "    sim.step( nsteps )\n",
    "\n",
    "    with open( restartfile, 'wb') as f:\n",
    "        print('Saving restart file.')\n",
    "        f.write( sim.context.createCheckpoint() )\n",
    "\n",
    "# save final configuration to PDB file\n",
    "positions = sim.context.getState(getPositions=True).getPositions()\n",
    "PDBFile.writeFile(sim.topology, positions, open('out.pdb', 'w'))\n",
    "print('Done!')"
   ]
  },
  {
   "cell_type": "code",
   "execution_count": null,
   "metadata": {
    "collapsed": true
   },
   "outputs": [],
   "source": []
  }
 ],
 "metadata": {
  "anaconda-cloud": {},
  "kernelspec": {
   "display_name": "Python [conda root]",
   "language": "python",
   "name": "conda-root-py"
  },
  "language_info": {
   "codemirror_mode": {
    "name": "ipython",
    "version": 3
   },
   "file_extension": ".py",
   "mimetype": "text/x-python",
   "name": "python",
   "nbconvert_exporter": "python",
   "pygments_lexer": "ipython3",
   "version": "3.5.2"
  }
 },
 "nbformat": 4,
 "nbformat_minor": 0
}

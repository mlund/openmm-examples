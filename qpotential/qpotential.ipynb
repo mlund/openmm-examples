{
 "cells": [
  {
   "cell_type": "markdown",
   "metadata": {},
   "source": [
    "# Simulation of a water box using the $q$-potential\n",
    "\n",
    "This will simulate a box of SPC/E water using a custom nonbonded force based on a tabulated $q$-potential. It can also perform a simulation using Ewald summation.\n",
    "\n",
    "Install prerequisites using `conda`:\n",
    "```bash\n",
    "    $ conda config --add channels omnia\n",
    "    $ conda install -c omnia openmm mdtraj packmol\n",
    "```"
   ]
  },
  {
   "cell_type": "code",
   "execution_count": 1,
   "metadata": {
    "collapsed": false
   },
   "outputs": [],
   "source": [
    "%matplotlib inline\n",
    "from simtk.openmm.app import *\n",
    "from simtk.openmm import *\n",
    "from simtk.unit import *\n",
    "from sys import stdout\n",
    "import matplotlib.pyplot as plt\n",
    "from io import StringIO\n",
    "import numpy as np, os"
   ]
  },
  {
   "cell_type": "code",
   "execution_count": 2,
   "metadata": {
    "collapsed": false
   },
   "outputs": [],
   "source": [
    "# simulation parameters: more to be added\n",
    "\n",
    "nsteps  = 50000   # number of MD steps\n",
    "boxlen  = 18.6206 # size of the cubic box in Å\n",
    "nwater  = 216     # number of water molecules\n",
    "NPT     = False   # NPT ensemble using pressure coupling?\n",
    "\n",
    "# write input file for packmol\n",
    "PACKMOL_INPUT = \"\"\" \n",
    "tolerance %f\n",
    "filetype pdb\n",
    "output %s\n",
    "\n",
    "# hoh will be put in a box\n",
    "# defined by the minimum coordinates x, y and z = 0. 0. 0. and maximum\n",
    "# coordinates box_size box_size box_size That is, they will be put in a cube of side\n",
    "# box_size (the keyword \"inside cube 0. 0. 0. box_size\") could be used as well.\n",
    "\n",
    "structure %s\n",
    "  number %d\n",
    "  inside box 0. 0. 0. %f %f %f \n",
    "  add_box_sides 0.0\n",
    "end structure\n",
    "\"\"\" % (2.,'box.pdb','hoh.pdb', nwater, boxlen, boxlen, boxlen)\n",
    "\n",
    "!echo '$PACKMOL_INPUT' > packmol_input.txt"
   ]
  },
  {
   "cell_type": "code",
   "execution_count": 3,
   "metadata": {
    "collapsed": false
   },
   "outputs": [
    {
     "name": "stdout",
     "output_type": "stream",
     "text": [
      "Overwriting hoh.pdb\n"
     ]
    }
   ],
   "source": [
    "%%writefile hoh.pdb\n",
    "CRYST1   30.000   30.000   30.000  90.00  90.00  90.00 P 1           1\n",
    "ATOM      1  O   HOH A   1      27.552  11.051   7.172  1.00  0.00          O\n",
    "ATOM      2  H1  HOH A   1      27.900  10.721   8.050  1.00  0.00          H\n",
    "ATOM      3  H2  HOH A   1      26.606  11.355   7.281  1.00  0.00          H \n",
    "END"
   ]
  },
  {
   "cell_type": "code",
   "execution_count": 4,
   "metadata": {
    "collapsed": false
   },
   "outputs": [],
   "source": [
    "# use packmol to create a system of randomly placed molecules\n",
    "!packmol < packmol_input.txt > /dev/null"
   ]
  },
  {
   "cell_type": "code",
   "execution_count": 5,
   "metadata": {
    "collapsed": false
   },
   "outputs": [
    {
     "name": "stdout",
     "output_type": "stream",
     "text": [
      "Creating OpenMM System\n"
     ]
    }
   ],
   "source": [
    "def findForce(system, forcetype, add=True):\n",
    "    \"\"\" Finds a specific force in the system force list - added if not found.\"\"\"\n",
    "    for force in system.getForces():\n",
    "        if isinstance(force, forcetype):\n",
    "            return force\n",
    "    if add==True:\n",
    "        system.addForce(forcetype())\n",
    "        return findForce(system, forcetype)\n",
    "    return None\n",
    "\n",
    "def make_qpotential_system(topology, cutoff=0.9*nanometers):\n",
    "    ff = ForceField('spce-qpot.xml')\n",
    "    system = ff.createSystem(\n",
    "        topology, nonbondedMethod=CutoffPeriodic,\n",
    "        nonbondedCutoff=cutoff, constraints=HBonds, rigidWater=True)\n",
    "\n",
    "    # tabulated q-potential to be implemented\n",
    "    x = np.linspace( 0.001,1, 1000 )\n",
    "    array = 1/x-1\n",
    "    fwolf = Continuous1DFunction(array, 0*nanometers, 1*nanometers)\n",
    "\n",
    "    nonbonded = findForce(system, CustomNonbondedForce)\n",
    "    nonbonded.addTabulatedFunction('wolf', fwolf) # 'wolf(r)' can now be used in energy function\n",
    "    nonbonded.addGlobalParameter('Rc', cutoff)    # 'Rc' can now be used in energy function\n",
    "    nonbonded.setEnergyFunction(\n",
    "        'charge1*charge2*wolf(r)' \\\n",
    "        ' + 4*epsilon*((sigma/r)^12-(sigma/r)^6) ; sigma=0.5*(sigma1+sigma2); epsilon=sqrt(epsilon1*epsilon2)' )\n",
    "    print('Pair potential:\\n  u12(r) =', nonbonded.getEnergyFunction())\n",
    "    return system\n",
    "\n",
    "def make_ewald_system(topology, cutoff=0.9*nanometers):\n",
    "    ff = ForceField('spce.xml')\n",
    "    return ff.createSystem(\n",
    "        topology, nonbondedMethod=Ewald,\n",
    "        nonbondedCutoff=cutoff, constraints=HBonds, rigidWater=True)\n",
    "    \n",
    "print('Creating OpenMM System')\n",
    "\n",
    "pdb = PDBFile('box.pdb')\n",
    "\n",
    "#system = make_qpotential_system( pdb.topology )\n",
    "system = make_ewald_system( pdb.topology )\n",
    "\n",
    "integrator = LangevinIntegrator( 298.15*kelvin, 1.0/picoseconds, 2*femtoseconds )\n",
    "integrator.setConstraintTolerance(0.00001)\n",
    "\n",
    "if NPT:\n",
    "    barostat = MonteCarloBarostat(1.0*bar, 298.15*kelvin, 25) \n",
    "    system.addForce(barostat)\n",
    "\n",
    "platform = Platform.getPlatformByName('CPU')\n",
    "\n",
    "# Create the Simulation object\n",
    "sim = Simulation(pdb.topology, system, integrator, platform)\n",
    "sim.context.setPositions(pdb.positions) # set particle positions"
   ]
  },
  {
   "cell_type": "code",
   "execution_count": 6,
   "metadata": {
    "collapsed": false
   },
   "outputs": [
    {
     "name": "stdout",
     "output_type": "stream",
     "text": [
      "Minimizing energy...\n",
      "Running Production...\n",
      "Loading restart file.\n",
      "#\"Progress (%)\"\t\"Step\"\t\"Potential Energy (kJ/mole)\"\t\"Temperature (K)\"\t\"Density (g/mL)\"\n",
      "1.0%\t500\t-10104.381621942353\t289.8826694700373\t1.0009348752917118\n",
      "2.0%\t1000\t-10121.620423209191\t301.5122123602971\t1.0009348752917118\n",
      "3.0%\t1500\t-10144.818340562786\t286.4730218415645\t1.0009348752917118\n",
      "4.0%\t2000\t-10236.497995536556\t294.35261571167274\t1.0009348752917118\n",
      "5.0%\t2500\t-10207.998121233395\t296.9523022157397\t1.0009348752917118\n",
      "6.0%\t3000\t-10162.126414058635\t293.43951004612825\t1.0009348752917118\n",
      "7.0%\t3500\t-10005.562330404726\t295.1703766015995\t1.0009348752917118\n",
      "8.0%\t4000\t-10155.317665216287\t294.9846496466838\t1.0009348752917118\n",
      "9.0%\t4500\t-10258.999401456007\t298.78592177062717\t1.0009348752917118\n",
      "10.0%\t5000\t-10133.981670274312\t303.8258779760854\t1.0009348752917118\n",
      "11.0%\t5500\t-10238.180792649327\t299.1794412781149\t1.0009348752917118\n",
      "12.0%\t6000\t-10156.932402900806\t308.0220160426882\t1.0009348752917118\n",
      "13.0%\t6500\t-10053.013762353374\t295.4467440896633\t1.0009348752917118\n",
      "14.0%\t7000\t-10061.62157175706\t295.2999501506171\t1.0009348752917118\n",
      "15.0%\t7500\t-10179.426236157044\t314.7558356326628\t1.0009348752917118\n",
      "16.0%\t8000\t-10179.654022423158\t305.6390968205342\t1.0009348752917118\n",
      "17.0%\t8500\t-10146.908274906717\t293.10041944135503\t1.0009348752917118\n",
      "18.0%\t9000\t-10242.513921315862\t310.98027253844475\t1.0009348752917118\n",
      "19.0%\t9500\t-10228.302178723548\t308.45397887630213\t1.0009348752917118\n",
      "20.0%\t10000\t-10185.453074756188\t288.8635995648699\t1.0009348752917118\n",
      "21.0%\t10500\t-10099.330314874118\t287.23403774886543\t1.0009348752917118\n",
      "22.0%\t11000\t-10143.998326116074\t288.3366037597604\t1.0009348752917118\n",
      "23.0%\t11500\t-9946.508866129647\t276.99182475956616\t1.0009348752917118\n",
      "24.0%\t12000\t-10156.638463971372\t304.48093192764117\t1.0009348752917118\n",
      "25.0%\t12500\t-10212.660640384129\t306.139272305133\t1.0009348752917118\n",
      "26.0%\t13000\t-10142.455262268835\t289.8264044957195\t1.0009348752917118\n",
      "27.0%\t13500\t-10226.251545013693\t298.6923320456323\t1.0009348752917118\n",
      "28.0%\t14000\t-10082.098054268892\t289.36890645301804\t1.0009348752917118\n",
      "29.0%\t14500\t-10167.543892096553\t284.68450641478955\t1.0009348752917118\n",
      "30.0%\t15000\t-10068.970430048386\t285.8017802553088\t1.0009348752917118\n",
      "31.0%\t15500\t-10108.797745684366\t275.33187579665105\t1.0009348752917118\n",
      "32.0%\t16000\t-10161.75116256297\t298.272655570849\t1.0009348752917118\n",
      "33.0%\t16500\t-10102.929990922006\t300.05018846621607\t1.0009348752917118\n",
      "34.0%\t17000\t-10098.997882518823\t306.83447165847866\t1.0009348752917118\n",
      "35.0%\t17500\t-10071.448482086249\t293.2527312646284\t1.0009348752917118\n",
      "36.0%\t18000\t-10072.930926328328\t274.6022144827501\t1.0009348752917118\n",
      "37.0%\t18500\t-10077.850754360043\t295.60897943691276\t1.0009348752917118\n",
      "38.0%\t19000\t-10141.873887641981\t297.49305358239553\t1.0009348752917118\n",
      "39.0%\t19500\t-10301.946609701597\t290.76155024429045\t1.0009348752917118\n",
      "40.0%\t20000\t-10182.168881233432\t288.92584565615704\t1.0009348752917118\n",
      "41.0%\t20500\t-10214.919948155279\t277.41750075500806\t1.0009348752917118\n",
      "42.0%\t21000\t-10312.720772119188\t300.797458355688\t1.0009348752917118\n",
      "43.0%\t21500\t-10165.378123078117\t273.8309825791913\t1.0009348752917118\n",
      "44.0%\t22000\t-10164.945821268033\t287.7776461556425\t1.0009348752917118\n",
      "45.0%\t22500\t-10183.142564336747\t290.87151121804834\t1.0009348752917118\n",
      "46.0%\t23000\t-10308.99455307574\t284.6098973271041\t1.0009348752917118\n",
      "47.0%\t23500\t-10249.45077467116\t257.4820568467078\t1.0009348752917118\n",
      "48.0%\t24000\t-10221.383992608367\t271.31384867061473\t1.0009348752917118\n",
      "49.0%\t24500\t-10107.68673550224\t296.0239600045968\t1.0009348752917118\n",
      "50.0%\t25000\t-9925.994717492882\t299.4660303450111\t1.0009348752917118\n",
      "51.0%\t25500\t-10162.84712726307\t292.99978344283466\t1.0009348752917118\n",
      "52.0%\t26000\t-10119.555775818393\t299.11270416797913\t1.0009348752917118\n",
      "53.0%\t26500\t-10027.26693303117\t294.42282741879296\t1.0009348752917118\n",
      "54.0%\t27000\t-10100.24620052187\t297.0906004446591\t1.0009348752917118\n",
      "55.0%\t27500\t-9955.8768311565\t284.1429055079065\t1.0009348752917118\n",
      "56.0%\t28000\t-10044.698364352567\t290.43689346297083\t1.0009348752917118\n",
      "57.0%\t28500\t-10130.17907852315\t305.0150154716409\t1.0009348752917118\n",
      "58.0%\t29000\t-9977.05044700551\t298.726977943486\t1.0009348752917118\n",
      "59.0%\t29500\t-9988.387800858196\t292.8134949269315\t1.0009348752917118\n",
      "60.0%\t30000\t-10075.886207147574\t303.90849401156385\t1.0009348752917118\n",
      "61.0%\t30500\t-10022.331335733172\t308.77896802206016\t1.0009348752917118\n",
      "62.0%\t31000\t-9960.779117640443\t291.637768776261\t1.0009348752917118\n",
      "63.0%\t31500\t-9914.953670085335\t286.34894651296753\t1.0009348752917118\n",
      "64.0%\t32000\t-10122.589846942734\t295.5887641212817\t1.0009348752917118\n",
      "65.0%\t32500\t-10102.168053607056\t275.68675921088317\t1.0009348752917118\n",
      "66.0%\t33000\t-10211.790695004842\t296.4291050096211\t1.0009348752917118\n",
      "67.0%\t33500\t-10188.515005442052\t319.1384092463376\t1.0009348752917118\n",
      "68.0%\t34000\t-10057.117912695416\t313.56263533739826\t1.0009348752917118\n",
      "69.0%\t34500\t-9984.526493400852\t301.1527071351066\t1.0009348752917118\n",
      "70.0%\t35000\t-10037.255303169426\t301.240297324093\t1.0009348752917118\n",
      "71.0%\t35500\t-10034.483846164418\t313.7744726414492\t1.0009348752917118\n",
      "72.0%\t36000\t-9942.32535906761\t321.2906100481775\t1.0009348752917118\n",
      "73.0%\t36500\t-9994.755282037753\t288.35125146308377\t1.0009348752917118\n",
      "74.0%\t37000\t-10002.31955098742\t288.71629225810517\t1.0009348752917118\n",
      "75.0%\t37500\t-10339.892098555676\t308.7276434849175\t1.0009348752917118\n",
      "76.0%\t38000\t-10062.77142806859\t296.84372644248\t1.0009348752917118\n",
      "77.0%\t38500\t-9925.320606154019\t298.5294781526065\t1.0009348752917118\n",
      "78.0%\t39000\t-10054.837236673811\t320.6718683643878\t1.0009348752917118\n",
      "79.0%\t39500\t-10079.78632792084\t294.1831950405545\t1.0009348752917118\n",
      "80.0%\t40000\t-10060.367033965485\t304.37414361887454\t1.0009348752917118\n",
      "81.0%\t40500\t-10140.117915524068\t297.8084020933099\t1.0009348752917118\n",
      "82.0%\t41000\t-10046.516866872364\t309.15039261540693\t1.0009348752917118\n",
      "83.0%\t41500\t-10079.900192463465\t297.4751542614923\t1.0009348752917118\n",
      "84.0%\t42000\t-10083.15339874578\t308.79144022218725\t1.0009348752917118\n",
      "85.0%\t42500\t-10084.57462052512\t299.4129006082422\t1.0009348752917118\n",
      "86.0%\t43000\t-10061.814698171656\t283.61891731914665\t1.0009348752917118\n",
      "87.0%\t43500\t-9989.497707048977\t310.1921997416189\t1.0009348752917118\n",
      "88.0%\t44000\t-9895.670007037195\t305.73995664213584\t1.0009348752917118\n",
      "89.0%\t44500\t-10162.515347465967\t284.5591906101048\t1.0009348752917118\n",
      "90.0%\t45000\t-10117.857941928145\t283.23745489995815\t1.0009348752917118\n",
      "91.0%\t45500\t-10196.379916386431\t297.74770216242786\t1.0009348752917118\n",
      "92.0%\t46000\t-10202.270055739682\t300.25175419205533\t1.0009348752917118\n",
      "93.0%\t46500\t-10065.964571334473\t307.58763432428\t1.0009348752917118\n",
      "94.0%\t47000\t-10050.863535720433\t305.36577199037765\t1.0009348752917118\n",
      "95.0%\t47500\t-10049.47464382503\t282.960580508186\t1.0009348752917118\n",
      "96.0%\t48000\t-10159.981190145852\t301.2624726480929\t1.0009348752917118\n",
      "97.0%\t48500\t-10075.255111799743\t291.24230851005393\t1.0009348752917118\n",
      "98.0%\t49000\t-10269.050515980998\t298.4985963939153\t1.0009348752917118\n",
      "99.0%\t49500\t-10151.645004683232\t299.94111737933935\t1.0009348752917118\n",
      "100.0%\t50000\t-10067.248418628275\t310.7234573162083\t1.0009348752917118\n",
      "Saving restart file.\n",
      "Done!\n"
     ]
    }
   ],
   "source": [
    "minimize=True\n",
    "production=True\n",
    "restart=True\n",
    "restartfile='out.chk'\n",
    "trjfile='out.dcd'\n",
    "\n",
    "if minimize:\n",
    "    print('Minimizing energy...')\n",
    "    sim.reporters.clear()\n",
    "    sim.minimizeEnergy( tolerance=50*kilojoule/mole, maxIterations=1000 )\n",
    "    sim.context.setVelocitiesToTemperature( 298.15*kelvin ) # initial random velocities\n",
    "\n",
    "if production:\n",
    "    print('Running Production...')\n",
    "    sim.reporters.clear()\n",
    "    sim.reporters.append( DCDReporter( trjfile, 100) )\n",
    "    \n",
    "    sim.reporters.append( StateDataReporter('energy.dat', 500, step=True, potentialEnergy=True,\n",
    "                                            temperature=True, density=True) )\n",
    "    \n",
    "    sim.reporters.append( StateDataReporter(stdout, 500, step=True, potentialEnergy=True,\n",
    "                                            temperature=True, density=True, separator='\\t',\n",
    "                                            progress=True,\n",
    "                                            totalSteps = nsteps) )\n",
    "\n",
    "    if restart:\n",
    "        if os.path.isfile( restartfile ):\n",
    "            with open( restartfile, 'rb') as f:\n",
    "                print('Loading restart file.')\n",
    "                sim.context.loadCheckpoint( f.read() )\n",
    "\n",
    "    sim.step( nsteps )\n",
    "\n",
    "    with open( restartfile, 'wb') as f:\n",
    "        print('Saving restart file.')\n",
    "        f.write( sim.context.createCheckpoint() )\n",
    "\n",
    "# save final configuration to PDB file\n",
    "positions = sim.context.getState(getPositions=True).getPositions()\n",
    "PDBFile.writeFile(sim.topology, positions, open('out.pdb', 'w'))\n",
    "print('Done!')"
   ]
  },
  {
   "cell_type": "code",
   "execution_count": 10,
   "metadata": {
    "collapsed": true
   },
   "outputs": [],
   "source": [
    "### Oxygen-oxygen radial distribution function"
   ]
  },
  {
   "cell_type": "code",
   "execution_count": 7,
   "metadata": {
    "collapsed": false
   },
   "outputs": [
    {
     "name": "stdout",
     "output_type": "stream",
     "text": [
      "Number of atoms = 648\n",
      "Number of residues = 216\n",
      "Number of frames = 499\n"
     ]
    },
    {
     "data": {
      "text/plain": [
       "<matplotlib.text.Text at 0x10d7a06a0>"
      ]
     },
     "execution_count": 7,
     "metadata": {},
     "output_type": "execute_result"
    },
    {
     "data": {
      "image/png": "[encoded data removed]",
      "text/plain": [
       "<matplotlib.figure.Figure at 0x10d7c3390>"
      ]
     },
     "metadata": {},
     "output_type": "display_data"
    }
   ],
   "source": [
    "import mdtraj as md\n",
    "traj = md.load('out.dcd', top='out.pdb')\n",
    "print('Number of atoms    = %s' % traj.n_atoms)\n",
    "print('Number of residues = %s' % traj.n_residues)\n",
    "print('Number of frames   = %s' % traj.n_frames)\n",
    "\n",
    "sel = traj.top.select('name O')\n",
    "OOpairs = traj.top.select_pairs('name O', 'name O')\n",
    "rdf = md.compute_rdf( traj, pairs=OOpairs, bin_width=0.005, r_range=[0.2, boxlen/2/10] )\n",
    "plt.plot( rdf[0], rdf[1])\n",
    "plt.xlabel(r'$r$/nm')\n",
    "plt.ylabel(r'$g(r)$')"
   ]
  },
  {
   "cell_type": "markdown",
   "metadata": {},
   "source": [
    "### Average potential energy"
   ]
  },
  {
   "cell_type": "code",
   "execution_count": 16,
   "metadata": {
    "collapsed": false
   },
   "outputs": [
    {
     "name": "stdout",
     "output_type": "stream",
     "text": [
      "Average potential energy =  -10112.5571297  kJ/mol\n"
     ]
    },
    {
     "data": {
      "image/png": "[encoded data removed]",
      "text/plain": [
       "<matplotlib.figure.Figure at 0x11510eb38>"
      ]
     },
     "metadata": {},
     "output_type": "display_data"
    }
   ],
   "source": [
    "step, Upot, temp, density = np.loadtxt('energy.dat', skiprows=1, delimiter=',', unpack=True)\n",
    "plt.plot(step, Upot)\n",
    "plt.xlabel(r'steps')\n",
    "plt.ylabel(r'$U_{pot}$')\n",
    "plt.plot([0,step.max()], [Upot.mean(), Upot.mean()], 'r--')\n",
    "print('Average potential energy = ', Upot.mean(), ' kJ/mol')"
   ]
  },
  {
   "cell_type": "markdown",
   "metadata": {},
   "source": [
    "### Static dielectric constant\n",
    "\n",
    "The exact formula is not given in the `mdtraj` documentation, but can be found in the source code on github,\n",
    "\n",
    "https://github.com/mdtraj/mdtraj/blob/master/mdtraj/geometry/thermodynamic_properties.py#L90"
   ]
  },
  {
   "cell_type": "code",
   "execution_count": 9,
   "metadata": {
    "collapsed": false
   },
   "outputs": [
    {
     "name": "stdout",
     "output_type": "stream",
     "text": [
      "Static dielectric constant =  45.91870507211941\n"
     ]
    }
   ],
   "source": [
    "# first let's extract all charges\n",
    "chargelist = []\n",
    "for force in system.getForces():\n",
    "    if 'getParticleParameters' in dir(force):\n",
    "        for i in range(force.getNumParticles()):\n",
    "            charge, sigma, epsilon = force.getParticleParameters(i)\n",
    "            chargelist.append( charge / elementary_charge )\n",
    "            \n",
    "print('Static dielectric constant = ', md.static_dielectric(traj, chargelist, temperature=298.15))"
   ]
  },
  {
   "cell_type": "code",
   "execution_count": 34,
   "metadata": {
    "collapsed": false
   },
   "outputs": [
    {
     "data": {
      "text/plain": [
       "45.32054012862557"
      ]
     },
     "execution_count": 34,
     "metadata": {},
     "output_type": "execute_result"
    }
   ],
   "source": [
    "# dielectric constant from only half the frames\n",
    "md.static_dielectric(traj[::2], chargelist, temperature=298.15)"
   ]
  },
  {
   "cell_type": "code",
   "execution_count": null,
   "metadata": {
    "collapsed": true
   },
   "outputs": [],
   "source": []
  }
 ],
 "metadata": {
  "anaconda-cloud": {},
  "kernelspec": {
   "display_name": "Python [conda root]",
   "language": "python",
   "name": "conda-root-py"
  },
  "language_info": {
   "codemirror_mode": {
    "name": "ipython",
    "version": 3
   },
   "file_extension": ".py",
   "mimetype": "text/x-python",
   "name": "python",
   "nbconvert_exporter": "python",
   "pygments_lexer": "ipython3",
   "version": "3.5.2"
  }
 },
 "nbformat": 4,
 "nbformat_minor": 0
}
